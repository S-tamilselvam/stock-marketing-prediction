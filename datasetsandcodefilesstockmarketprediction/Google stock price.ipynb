{
 "cells": [
  {
   "cell_type": "code",
   "execution_count": 17,
   "metadata": {},
   "outputs": [],
   "source": [
    "import numpy as np \n",
    "import pandas as pd \n",
    "import matplotlib.pyplot as plt \n",
    "from sklearn.preprocessing import MinMaxScaler\n",
    "from keras.models import Sequential\n",
    "from keras.layers import Dense,LSTM,Dropout"
   ]
  },
  {
   "cell_type": "code",
   "execution_count": 18,
   "metadata": {},
   "outputs": [
    {
     "data": {
      "text/html": [
       "<div>\n",
       "<style scoped>\n",
       "    .dataframe tbody tr th:only-of-type {\n",
       "        vertical-align: middle;\n",
       "    }\n",
       "\n",
       "    .dataframe tbody tr th {\n",
       "        vertical-align: top;\n",
       "    }\n",
       "\n",
       "    .dataframe thead th {\n",
       "        text-align: right;\n",
       "    }\n",
       "</style>\n",
       "<table border=\"1\" class=\"dataframe\">\n",
       "  <thead>\n",
       "    <tr style=\"text-align: right;\">\n",
       "      <th></th>\n",
       "      <th>Date</th>\n",
       "      <th>Open</th>\n",
       "      <th>High</th>\n",
       "      <th>Low</th>\n",
       "      <th>Close</th>\n",
       "      <th>Volume</th>\n",
       "    </tr>\n",
       "  </thead>\n",
       "  <tbody>\n",
       "    <tr>\n",
       "      <th>0</th>\n",
       "      <td>1/3/2012</td>\n",
       "      <td>325.25</td>\n",
       "      <td>332.83</td>\n",
       "      <td>324.97</td>\n",
       "      <td>663.59</td>\n",
       "      <td>7,380,500</td>\n",
       "    </tr>\n",
       "    <tr>\n",
       "      <th>1</th>\n",
       "      <td>1/4/2012</td>\n",
       "      <td>331.27</td>\n",
       "      <td>333.87</td>\n",
       "      <td>329.08</td>\n",
       "      <td>666.45</td>\n",
       "      <td>5,749,400</td>\n",
       "    </tr>\n",
       "    <tr>\n",
       "      <th>2</th>\n",
       "      <td>1/5/2012</td>\n",
       "      <td>329.83</td>\n",
       "      <td>330.75</td>\n",
       "      <td>326.89</td>\n",
       "      <td>657.21</td>\n",
       "      <td>6,590,300</td>\n",
       "    </tr>\n",
       "    <tr>\n",
       "      <th>3</th>\n",
       "      <td>1/6/2012</td>\n",
       "      <td>328.34</td>\n",
       "      <td>328.77</td>\n",
       "      <td>323.68</td>\n",
       "      <td>648.24</td>\n",
       "      <td>5,405,900</td>\n",
       "    </tr>\n",
       "    <tr>\n",
       "      <th>4</th>\n",
       "      <td>1/9/2012</td>\n",
       "      <td>322.04</td>\n",
       "      <td>322.29</td>\n",
       "      <td>309.46</td>\n",
       "      <td>620.76</td>\n",
       "      <td>11,688,800</td>\n",
       "    </tr>\n",
       "  </tbody>\n",
       "</table>\n",
       "</div>"
      ],
      "text/plain": [
       "       Date    Open    High     Low   Close      Volume\n",
       "0  1/3/2012  325.25  332.83  324.97  663.59   7,380,500\n",
       "1  1/4/2012  331.27  333.87  329.08  666.45   5,749,400\n",
       "2  1/5/2012  329.83  330.75  326.89  657.21   6,590,300\n",
       "3  1/6/2012  328.34  328.77  323.68  648.24   5,405,900\n",
       "4  1/9/2012  322.04  322.29  309.46  620.76  11,688,800"
      ]
     },
     "execution_count": 18,
     "metadata": {},
     "output_type": "execute_result"
    }
   ],
   "source": [
    "data = pd.read_csv('C:/Users/lenovo/Music/datasetsandcodefilesstockmarketprediction/Google_train_data.csv')\n",
    "data.head()"
   ]
  },
  {
   "cell_type": "code",
   "execution_count": 19,
   "metadata": {},
   "outputs": [
    {
     "name": "stdout",
     "output_type": "stream",
     "text": [
      "<class 'pandas.core.frame.DataFrame'>\n",
      "RangeIndex: 1258 entries, 0 to 1257\n",
      "Data columns (total 6 columns):\n",
      " #   Column  Non-Null Count  Dtype  \n",
      "---  ------  --------------  -----  \n",
      " 0   Date    1258 non-null   object \n",
      " 1   Open    1258 non-null   float64\n",
      " 2   High    1258 non-null   float64\n",
      " 3   Low     1258 non-null   float64\n",
      " 4   Close   1258 non-null   object \n",
      " 5   Volume  1258 non-null   object \n",
      "dtypes: float64(3), object(3)\n",
      "memory usage: 59.1+ KB\n"
     ]
    }
   ],
   "source": [
    "data.info()"
   ]
  },
  {
   "cell_type": "code",
   "execution_count": 20,
   "metadata": {},
   "outputs": [],
   "source": [
    "data[\"Close\"]=pd.to_numeric(data.Close,errors='coerce')\n",
    "data = data.dropna()\n",
    "trainData = data.iloc[:,4:5].values"
   ]
  },
  {
   "cell_type": "code",
   "execution_count": 21,
   "metadata": {},
   "outputs": [
    {
     "name": "stdout",
     "output_type": "stream",
     "text": [
      "<class 'pandas.core.frame.DataFrame'>\n",
      "Index: 1149 entries, 0 to 1257\n",
      "Data columns (total 6 columns):\n",
      " #   Column  Non-Null Count  Dtype  \n",
      "---  ------  --------------  -----  \n",
      " 0   Date    1149 non-null   object \n",
      " 1   Open    1149 non-null   float64\n",
      " 2   High    1149 non-null   float64\n",
      " 3   Low     1149 non-null   float64\n",
      " 4   Close   1149 non-null   float64\n",
      " 5   Volume  1149 non-null   object \n",
      "dtypes: float64(4), object(2)\n",
      "memory usage: 62.8+ KB\n"
     ]
    }
   ],
   "source": [
    "data.info()"
   ]
  },
  {
   "cell_type": "code",
   "execution_count": 22,
   "metadata": {},
   "outputs": [
    {
     "data": {
      "text/plain": [
       "(1149, 1)"
      ]
     },
     "execution_count": 22,
     "metadata": {},
     "output_type": "execute_result"
    }
   ],
   "source": [
    "sc = MinMaxScaler(feature_range=(0,1))\n",
    "trainData = sc.fit_transform(trainData)\n",
    "trainData.shape"
   ]
  },
  {
   "cell_type": "code",
   "execution_count": 23,
   "metadata": {},
   "outputs": [],
   "source": [
    "X_train = []\n",
    "y_train = []\n",
    "\n",
    "for i in range (60,1149): #60 : timestep // 1149 : length of the data\n",
    "    X_train.append(trainData[i-60:i,0]) \n",
    "    y_train.append(trainData[i,0])\n",
    "\n",
    "X_train,y_train = np.array(X_train),np.array(y_train)"
   ]
  },
  {
   "cell_type": "code",
   "execution_count": 24,
   "metadata": {},
   "outputs": [
    {
     "data": {
      "text/plain": [
       "(1089, 60, 1)"
      ]
     },
     "execution_count": 24,
     "metadata": {},
     "output_type": "execute_result"
    }
   ],
   "source": [
    "X_train = np.reshape(X_train,(X_train.shape[0],X_train.shape[1],1)) #adding the batch_size axis\n",
    "X_train.shape"
   ]
  },
  {
   "cell_type": "code",
   "execution_count": 25,
   "metadata": {},
   "outputs": [
    {
     "name": "stderr",
     "output_type": "stream",
     "text": [
      "c:\\Users\\lenovo\\AppData\\Local\\Programs\\Python\\Python312\\Lib\\site-packages\\keras\\src\\layers\\rnn\\rnn.py:204: UserWarning: Do not pass an `input_shape`/`input_dim` argument to a layer. When using Sequential models, prefer using an `Input(shape)` object as the first layer in the model instead.\n",
      "  super().__init__(**kwargs)\n"
     ]
    }
   ],
   "source": [
    "model = Sequential()\n",
    "\n",
    "model.add(LSTM(units=100, return_sequences = True, input_shape =(X_train.shape[1],1)))\n",
    "model.add(Dropout(0.2))\n",
    "\n",
    "model.add(LSTM(units=100, return_sequences = True))\n",
    "model.add(Dropout(0.2))\n",
    "\n",
    "model.add(LSTM(units=100, return_sequences = True))\n",
    "model.add(Dropout(0.2))\n",
    "\n",
    "model.add(LSTM(units=100, return_sequences = False))\n",
    "model.add(Dropout(0.2))\n",
    "\n",
    "model.add(Dense(units =1))\n",
    "model.compile(optimizer='adam',loss=\"mean_squared_error\")"
   ]
  },
  {
   "cell_type": "code",
   "execution_count": 26,
   "metadata": {},
   "outputs": [
    {
     "name": "stdout",
     "output_type": "stream",
     "text": [
      "Epoch 1/20\n",
      "35/35 - 11s - 315ms/step - loss: 0.0329\n",
      "Epoch 2/20\n",
      "35/35 - 4s - 110ms/step - loss: 0.0108\n",
      "Epoch 3/20\n",
      "35/35 - 4s - 114ms/step - loss: 0.0105\n",
      "Epoch 4/20\n",
      "35/35 - 4s - 105ms/step - loss: 0.0079\n",
      "Epoch 5/20\n",
      "35/35 - 4s - 127ms/step - loss: 0.0073\n",
      "Epoch 6/20\n",
      "35/35 - 5s - 133ms/step - loss: 0.0100\n",
      "Epoch 7/20\n",
      "35/35 - 5s - 129ms/step - loss: 0.0071\n",
      "Epoch 8/20\n",
      "35/35 - 4s - 114ms/step - loss: 0.0065\n",
      "Epoch 9/20\n",
      "35/35 - 4s - 115ms/step - loss: 0.0066\n",
      "Epoch 10/20\n",
      "35/35 - 4s - 121ms/step - loss: 0.0079\n",
      "Epoch 11/20\n",
      "35/35 - 4s - 108ms/step - loss: 0.0066\n",
      "Epoch 12/20\n",
      "35/35 - 4s - 105ms/step - loss: 0.0054\n",
      "Epoch 13/20\n",
      "35/35 - 4s - 107ms/step - loss: 0.0054\n",
      "Epoch 14/20\n",
      "35/35 - 4s - 107ms/step - loss: 0.0052\n",
      "Epoch 15/20\n",
      "35/35 - 4s - 106ms/step - loss: 0.0052\n",
      "Epoch 16/20\n",
      "35/35 - 4s - 110ms/step - loss: 0.0059\n",
      "Epoch 17/20\n",
      "35/35 - 4s - 115ms/step - loss: 0.0049\n",
      "Epoch 18/20\n",
      "35/35 - 4s - 124ms/step - loss: 0.0057\n",
      "Epoch 19/20\n",
      "35/35 - 5s - 143ms/step - loss: 0.0045\n",
      "Epoch 20/20\n",
      "35/35 - 4s - 111ms/step - loss: 0.0053\n"
     ]
    }
   ],
   "source": [
    "hist = model.fit(X_train, y_train, epochs = 20, batch_size = 32, verbose=2)"
   ]
  },
  {
   "cell_type": "code",
   "execution_count": 27,
   "metadata": {},
   "outputs": [
    {
     "data": {
      "image/png": "[encoded data removed]",
      "text/plain": [
       "<Figure size 640x480 with 1 Axes>"
      ]
     },
     "metadata": {},
     "output_type": "display_data"
    }
   ],
   "source": [
    "plt.plot(hist.history['loss'])\n",
    "plt.title('Training model loss')\n",
    "plt.ylabel('loss')\n",
    "plt.xlabel('epoch')\n",
    "plt.legend(['train'], loc='upper left')\n",
    "plt.show()"
   ]
  },
  {
   "cell_type": "code",
   "execution_count": 28,
   "metadata": {},
   "outputs": [
    {
     "data": {
      "text/plain": [
       "(192, 60, 1)"
      ]
     },
     "execution_count": 28,
     "metadata": {},
     "output_type": "execute_result"
    }
   ],
   "source": [
    "testData = pd.read_csv('Google_test_data.csv')\n",
    "testData[\"Close\"]=pd.to_numeric(testData.Close,errors='coerce')\n",
    "testData = testData.dropna()\n",
    "testData = testData.iloc[:,4:5]\n",
    "y_test = testData.iloc[60:,0:].values \n",
    "#input array for the model\n",
    "inputClosing = testData.iloc[:,0:].values \n",
    "inputClosing_scaled = sc.transform(inputClosing)\n",
    "inputClosing_scaled.shape\n",
    "X_test = []\n",
    "length = len(testData)\n",
    "timestep = 60\n",
    "for i in range(timestep,length):  \n",
    "    X_test.append(inputClosing_scaled[i-timestep:i,0])\n",
    "X_test = np.array(X_test)\n",
    "X_test = np.reshape(X_test,(X_test.shape[0],X_test.shape[1],1))\n",
    "X_test.shape"
   ]
  },
  {
   "cell_type": "code",
   "execution_count": 29,
   "metadata": {},
   "outputs": [
    {
     "name": "stdout",
     "output_type": "stream",
     "text": [
      "\u001b[1m6/6\u001b[0m \u001b[32m━━━━━━━━━━━━━━━━━━━━\u001b[0m\u001b[37m\u001b[0m \u001b[1m1s\u001b[0m 56ms/step\n"
     ]
    },
    {
     "data": {
      "text/plain": [
       "array([[1.2352638],\n",
       "       [1.238126 ],\n",
       "       [1.2479938],\n",
       "       [1.2633421],\n",
       "       [1.2769231],\n",
       "       [1.2793566],\n",
       "       [1.269403 ],\n",
       "       [1.252968 ],\n",
       "       [1.240115 ],\n",
       "       [1.2345086],\n",
       "       [1.2276673],\n",
       "       [1.2176255],\n",
       "       [1.2080524],\n",
       "       [1.198985 ],\n",
       "       [1.1957095],\n",
       "       [1.1985453],\n",
       "       [1.2134364],\n",
       "       [1.2387724],\n",
       "       [1.2693686],\n",
       "       [1.3008462],\n",
       "       [1.3171889],\n",
       "       [1.318026 ],\n",
       "       [1.302011 ],\n",
       "       [1.2755506],\n",
       "       [1.2491013],\n",
       "       [1.2315409],\n",
       "       [1.2249824],\n",
       "       [1.2235533],\n",
       "       [1.2183013],\n",
       "       [1.2095805],\n",
       "       [1.198924 ],\n",
       "       [1.1861548],\n",
       "       [1.167365 ],\n",
       "       [1.1436312],\n",
       "       [1.1308106],\n",
       "       [1.1353546],\n",
       "       [1.1530918],\n",
       "       [1.1760999],\n",
       "       [1.1993601],\n",
       "       [1.213286 ],\n",
       "       [1.2256888],\n",
       "       [1.2394818],\n",
       "       [1.2553636],\n",
       "       [1.2708505],\n",
       "       [1.2823957],\n",
       "       [1.2858644],\n",
       "       [1.2790704],\n",
       "       [1.27107  ],\n",
       "       [1.267686 ],\n",
       "       [1.2717104],\n",
       "       [1.2830805],\n",
       "       [1.2928642],\n",
       "       [1.297634 ],\n",
       "       [1.2970238],\n",
       "       [1.2960975],\n",
       "       [1.2931384],\n",
       "       [1.2861332],\n",
       "       [1.2816279],\n",
       "       [1.2876741],\n",
       "       [1.3028154],\n",
       "       [1.3262398],\n",
       "       [1.355516 ],\n",
       "       [1.378721 ],\n",
       "       [1.3869605],\n",
       "       [1.3799067],\n",
       "       [1.3630173],\n",
       "       [1.3483434],\n",
       "       [1.3411494],\n",
       "       [1.3418437],\n",
       "       [1.346233 ],\n",
       "       [1.3519572],\n",
       "       [1.356343 ],\n",
       "       [1.3550292],\n",
       "       [1.3508724],\n",
       "       [1.3463686],\n",
       "       [1.3441885],\n",
       "       [1.3450518],\n",
       "       [1.3489281],\n",
       "       [1.3587458],\n",
       "       [1.3744183],\n",
       "       [1.3953562],\n",
       "       [1.4166847],\n",
       "       [1.4309976],\n",
       "       [1.4357945],\n",
       "       [1.439558 ],\n",
       "       [1.4493053],\n",
       "       [1.464615 ],\n",
       "       [1.479826 ],\n",
       "       [1.4906104],\n",
       "       [1.4954858],\n",
       "       [1.4983108],\n",
       "       [1.5061996],\n",
       "       [1.520908 ],\n",
       "       [1.5334272],\n",
       "       [1.5365906],\n",
       "       [1.5286058],\n",
       "       [1.510892 ],\n",
       "       [1.488003 ],\n",
       "       [1.4666822],\n",
       "       [1.4556544],\n",
       "       [1.4575613],\n",
       "       [1.4702259],\n",
       "       [1.4899942],\n",
       "       [1.50959  ],\n",
       "       [1.5235733],\n",
       "       [1.5289541],\n",
       "       [1.5279145],\n",
       "       [1.5239909],\n",
       "       [1.5225246],\n",
       "       [1.525443 ],\n",
       "       [1.5327939],\n",
       "       [1.5441896],\n",
       "       [1.5568823],\n",
       "       [1.5706084],\n",
       "       [1.5868028],\n",
       "       [1.6014801],\n",
       "       [1.6133493],\n",
       "       [1.6233075],\n",
       "       [1.6343937],\n",
       "       [1.6243348],\n",
       "       [1.5881139],\n",
       "       [1.5355276],\n",
       "       [1.486097 ],\n",
       "       [1.4523389],\n",
       "       [1.4343826],\n",
       "       [1.427475 ],\n",
       "       [1.4265387],\n",
       "       [1.4288055],\n",
       "       [1.4258823],\n",
       "       [1.4143212],\n",
       "       [1.4061103],\n",
       "       [1.4094372],\n",
       "       [1.4201254],\n",
       "       [1.4278681],\n",
       "       [1.4308937],\n",
       "       [1.4304646],\n",
       "       [1.426154 ],\n",
       "       [1.4178323],\n",
       "       [1.4076071],\n",
       "       [1.3943146],\n",
       "       [1.3799558],\n",
       "       [1.3642755],\n",
       "       [1.3355757],\n",
       "       [1.2991226],\n",
       "       [1.2613815],\n",
       "       [1.2294843],\n",
       "       [1.2118803],\n",
       "       [1.2125685],\n",
       "       [1.227625 ],\n",
       "       [1.2494206],\n",
       "       [1.2732264],\n",
       "       [1.2940233],\n",
       "       [1.3102663],\n",
       "       [1.323497 ],\n",
       "       [1.3337231],\n",
       "       [1.3424008],\n",
       "       [1.3516374],\n",
       "       [1.3597121],\n",
       "       [1.3592627],\n",
       "       [1.3483409],\n",
       "       [1.3297517],\n",
       "       [1.309753 ],\n",
       "       [1.2965493],\n",
       "       [1.2953221],\n",
       "       [1.3066682],\n",
       "       [1.3278565],\n",
       "       [1.3496587],\n",
       "       [1.3676463],\n",
       "       [1.382927 ],\n",
       "       [1.3962348],\n",
       "       [1.4071317],\n",
       "       [1.4159547],\n",
       "       [1.4230627],\n",
       "       [1.4267148],\n",
       "       [1.426677 ],\n",
       "       [1.4205583],\n",
       "       [1.4113915],\n",
       "       [1.4039623],\n",
       "       [1.3986204],\n",
       "       [1.3940374],\n",
       "       [1.414174 ],\n",
       "       [1.4575398],\n",
       "       [1.5076678],\n",
       "       [1.5481483],\n",
       "       [1.5699697],\n",
       "       [1.5705081],\n",
       "       [1.5467092],\n",
       "       [1.511138 ],\n",
       "       [1.4766985],\n",
       "       [1.4576504],\n",
       "       [1.4530058],\n",
       "       [1.4551375]], dtype=float32)"
      ]
     },
     "execution_count": 29,
     "metadata": {},
     "output_type": "execute_result"
    }
   ],
   "source": [
    "y_pred = model.predict(X_test)\n",
    "y_pred"
   ]
  },
  {
   "cell_type": "code",
   "execution_count": 30,
   "metadata": {},
   "outputs": [],
   "source": [
    "predicted_price = sc.inverse_transform(y_pred)"
   ]
  },
  {
   "cell_type": "code",
   "execution_count": 31,
   "metadata": {},
   "outputs": [
    {
     "data": {
      "image/png": "[encoded data removed]",
      "text/plain": [
       "<Figure size 640x480 with 1 Axes>"
      ]
     },
     "metadata": {},
     "output_type": "display_data"
    }
   ],
   "source": [
    "plt.plot(y_test, color = 'red', label = 'Actual Stock Price')\n",
    "plt.plot(predicted_price, color = 'green', label = 'Predicted Stock Price')\n",
    "plt.title('Google stock price prediction')\n",
    "plt.xlabel('Time')\n",
    "plt.ylabel('Stock Price')\n",
    "plt.legend()\n",
    "plt.show()"
   ]
  }
 ],
 "metadata": {
  "kernelspec": {
   "display_name": "Python 3",
   "language": "python",
   "name": "python3"
  },
  "language_info": {
   "codemirror_mode": {
    "name": "ipython",
    "version": 3
   },
   "file_extension": ".py",
   "mimetype": "text/x-python",
   "name": "python",
   "nbconvert_exporter": "python",
   "pygments_lexer": "ipython3",
   "version": "3.12.3"
  }
 },
 "nbformat": 4,
 "nbformat_minor": 4
}
